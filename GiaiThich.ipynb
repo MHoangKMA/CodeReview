{
  "nbformat": 4,
  "nbformat_minor": 0,
  "metadata": {
    "colab": {
      "provenance": [],
      "authorship_tag": "ABX9TyOnOdywFki/8hVKxMc4tXkX",
      "include_colab_link": true
    },
    "kernelspec": {
      "name": "python3",
      "display_name": "Python 3"
    },
    "language_info": {
      "name": "python"
    }
  },
  "cells": [
    {
      "cell_type": "markdown",
      "metadata": {
        "id": "view-in-github",
        "colab_type": "text"
      },
      "source": [
        "<a href=\"https://colab.research.google.com/github/richardlin01/CodeReview/blob/main/GiaiThich.ipynb\" target=\"_parent\"><img src=\"https://colab.research.google.com/assets/colab-badge.svg\" alt=\"Open In Colab\"/></a>"
      ]
    },
    {
      "cell_type": "markdown",
      "source": [
        "Khai báo các thư viện"
      ],
      "metadata": {
        "id": "r0lw26Hn0pHI"
      }
    },
    {
      "cell_type": "code",
      "source": [
        "#include<FirebaseESP32.h>\n",
        "#include<HardwareSerial.h>\n",
        "#include<WiFi.h>"
      ],
      "metadata": {
        "id": "UUrjpmUV0lfg"
      },
      "execution_count": null,
      "outputs": []
    },
    {
      "cell_type": "markdown",
      "source": [
        "- define Macro ID và Pass Wifi\n",
        "- define auth & host của Firebase"
      ],
      "metadata": {
        "id": "IWzu_RFh1iCm"
      }
    },
    {
      "cell_type": "code",
      "source": [
        "// WiFi credentials\n",
        "#define WIFI_SSID \"TB1_ACTVN\"\n",
        "#define WIFI_PASSWORD \"1234567@9\"\n",
        "// Firebase credentials\n",
        "#define FIREBASE_AUTH \"P1tLoliGeLjFXgjCvJWKLqTTV4UAoWKR3FIuUlFg\"\n",
        "#define FIREBASE_HOST \"https://iotzigbee-546dd-default-rtdb.firebaseio.com/\"\n",
        "// Firebase database instance"
      ],
      "metadata": {
        "id": "9ii_coAp1g5O"
      },
      "execution_count": null,
      "outputs": []
    }
  ]
}