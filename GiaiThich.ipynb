{
  "nbformat": 4,
  "nbformat_minor": 0,
  "metadata": {
    "colab": {
      "provenance": [],
      "authorship_tag": "ABX9TyPCUhIqOqRFiiU5z1L7CnfM",
      "include_colab_link": true
    },
    "kernelspec": {
      "name": "python3",
      "display_name": "Python 3"
    },
    "language_info": {
      "name": "python"
    }
  },
  "cells": [
    {
      "cell_type": "markdown",
      "metadata": {
        "id": "view-in-github",
        "colab_type": "text"
      },
      "source": [
        "<a href=\"https://colab.research.google.com/github/richardlin01/CodeReview/blob/main/GiaiThich.ipynb\" target=\"_parent\"><img src=\"https://colab.research.google.com/assets/colab-badge.svg\" alt=\"Open In Colab\"/></a>"
      ]
    },
    {
      "cell_type": "markdown",
      "source": [
        "Khai báo các thư viện"
      ],
      "metadata": {
        "id": "r0lw26Hn0pHI"
      }
    },
    {
      "cell_type": "code",
      "source": [
        "#include <FirebaseESP32.h>\n",
        "#include <HardwareSerial.h>\n",
        "#include <WiFi.h>"
      ],
      "metadata": {
        "id": "UUrjpmUV0lfg"
      },
      "execution_count": null,
      "outputs": []
    }
  ]
}