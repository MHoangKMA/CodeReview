{
  "nbformat": 4,
  "nbformat_minor": 0,
  "metadata": {
    "colab": {
      "provenance": [],
      "authorship_tag": "ABX9TyNiZbAfKSz2nNk3l7QHeXH9",
      "include_colab_link": true
    },
    "kernelspec": {
      "name": "python3",
      "display_name": "Python 3"
    },
    "language_info": {
      "name": "python"
    }
  },
  "cells": [
    {
      "cell_type": "markdown",
      "metadata": {
        "id": "view-in-github",
        "colab_type": "text"
      },
      "source": [
        "<a href=\"https://colab.research.google.com/github/richardlin01/CodeReview/blob/main/GiaiThich.ipynb\" target=\"_parent\"><img src=\"https://colab.research.google.com/assets/colab-badge.svg\" alt=\"Open In Colab\"/></a>"
      ]
    },
    {
      "cell_type": "markdown",
      "source": [
        "Khai báo các thư viện"
      ],
      "metadata": {
        "id": "r0lw26Hn0pHI"
      }
    },
    {
      "cell_type": "code",
      "source": [
        "# include<FirebaseESP32.h>\n",
        "# include<HardwareSerial.h>\n",
        "# include<WiFi.h>"
      ],
      "metadata": {
        "id": "UUrjpmUV0lfg"
      },
      "execution_count": null,
      "outputs": []
    },
    {
      "cell_type": "markdown",
      "source": [
        "- define Macro ID và Pass Wifi\n",
        "- define auth & host của Firebase"
      ],
      "metadata": {
        "id": "IWzu_RFh1iCm"
      }
    },
    {
      "cell_type": "code",
      "source": [
        "// WiFi credentials\n",
        "#define WIFI_SSID \"TB1_ACTVN\"\n",
        "#define WIFI_PASSWORD \"1234567@9\"\n",
        "// Firebase credentials\n",
        "#define FIREBASE_AUTH \"P1tLoliGeLjFXgjCvJWKLqTTV4UAoWKR3FIuUlFg\"\n",
        "#define FIREBASE_HOST \"https://iotzigbee-546dd-default-rtdb.firebaseio.com/\"\n",
        "// Firebase database instance"
      ],
      "metadata": {
        "id": "9ii_coAp1g5O"
      },
      "execution_count": null,
      "outputs": []
    },
    {
      "cell_type": "markdown",
      "source": [
        "Khai báo các biến trạng thái, nhiệt độ, độ ẩm, khí gas, biến thời gian hiện tại và trước đó."
      ],
      "metadata": {
        "id": "GGPy0BJp2Uh8"
      }
    },
    {
      "cell_type": "code",
      "source": [
        "String path = \"/SmartHomeZigbee\";\n",
        "FirebaseData firebaseData;\n",
        "HardwareSerial zigbee(2);\n",
        "String data_receiv, node, data_tx, tmp1, humi1, mq2_s, tt_den, tt_quat,s = \"\";\n",
        "int tt ;\n",
        "float temperature1;\n",
        "float humidity1;\n",
        "int mq2;\n",
        "unsigned long curr_time, prev_time;"
      ],
      "metadata": {
        "id": "GDNPq5wb2TvZ"
      },
      "execution_count": null,
      "outputs": []
    },
    {
      "cell_type": "markdown",
      "source": [
        "Chương trình chính:\n",
        "- Setup baudrate truyền của Serial và của Zigbee\n",
        "- Connect Wifi\n",
        "- setString đẩy dữ liệu lên Firebase 2 trường LED và FAN"
      ],
      "metadata": {
        "id": "gzZAjMo62o--"
      }
    },
    {
      "cell_type": "code",
      "source": [
        "void setup() {\n",
        "\n",
        "  // Start serial communication\n",
        "  Serial.begin(9600);\n",
        "  zigbee.begin(115200, SERIAL_8N1, 16, 17);\n",
        "  // Connect to WiFi network\n",
        "  WiFi.begin(WIFI_SSID, WIFI_PASSWORD);\n",
        "  while (WiFi.status() != WL_CONNECTED) {\n",
        "    delay(10);\n",
        "    Serial.println(\"Connecting to WiFi...\");\n",
        "  }\n",
        "  // Initialize Firebase\n",
        "  Firebase.begin(FIREBASE_HOST, FIREBASE_AUTH);\n",
        "  Serial.println(\"Connected to firebase\");\n",
        "  Firebase.setString(firebaseData, path + \"/LED\", \"off\");\n",
        "  Firebase.setString(firebaseData, path + \"/FAN\", \"off\");\n",
        "}"
      ],
      "metadata": {
        "id": "HS5cp2IA2q-l"
      },
      "execution_count": null,
      "outputs": []
    }
  ]
}