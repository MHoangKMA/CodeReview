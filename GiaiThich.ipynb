{
  "nbformat": 4,
  "nbformat_minor": 0,
  "metadata": {
    "colab": {
      "provenance": [],
      "authorship_tag": "ABX9TyNIUMDh6YBX5/XOGUGc7R7R",
      "include_colab_link": true
    },
    "kernelspec": {
      "name": "python3",
      "display_name": "Python 3"
    },
    "language_info": {
      "name": "python"
    }
  },
  "cells": [
    {
      "cell_type": "markdown",
      "metadata": {
        "id": "view-in-github",
        "colab_type": "text"
      },
      "source": [
        "<a href=\"https://colab.research.google.com/github/richardlin01/CodeReview/blob/main/GiaiThich.ipynb\" target=\"_parent\"><img src=\"https://colab.research.google.com/assets/colab-badge.svg\" alt=\"Open In Colab\"/></a>"
      ]
    },
    {
      "cell_type": "markdown",
      "source": [
        "Khai báo các thư viện\n",
        "\n",
        "- Khai báo các thư viện cần thiết cho dự án, bao gồm FirebaseESP32, HardwareSerial, và WiFi.\n",
        "- Các thư viện này cho phép kết nối và giao tiếp với Firebase, sử dụng cổng serial và thiết lập kết nối WiFi."
      ],
      "metadata": {
        "id": "r0lw26Hn0pHI"
      }
    },
    {
      "cell_type": "code",
      "source": [
        "#include<FirebaseESP32.h>\n",
        "#include<HardwareSerial.h>\n",
        "#include<WiFi.h>"
      ],
      "metadata": {
        "id": "UUrjpmUV0lfg"
      },
      "execution_count": null,
      "outputs": []
    },
    {
      "cell_type": "markdown",
      "source": [
        "- define Macro ID và Pass Wifi\n",
        "- define auth & host của Firebase\n",
        "\n",
        "Định nghĩa WiFi và Firebase Credentials: Xác định thông tin đăng nhập WiFi (SSID và mật khẩu) và thông tin xác thực Firebase (FIREBASE_AUTH) cần thiết để kết nối đến mạng và cơ sở dữ liệu Firebase."
      ],
      "metadata": {
        "id": "IWzu_RFh1iCm"
      }
    },
    {
      "cell_type": "code",
      "source": [
        "// WiFi credentials\n",
        "#define WIFI_SSID \"TB1_ACTVN\"\n",
        "#define WIFI_PASSWORD \"1234567@9\"\n",
        "// Firebase credentials\n",
        "#define FIREBASE_AUTH \"P1tLoliGeLjFXgjCvJWKLqTTV4UAoWKR3FIuUlFg\"\n",
        "#define FIREBASE_HOST \"https://iotzigbee-546dd-default-rtdb.firebaseio.com/\"\n",
        "// Firebase database instance"
      ],
      "metadata": {
        "id": "9ii_coAp1g5O"
      },
      "execution_count": null,
      "outputs": []
    },
    {
      "cell_type": "markdown",
      "source": [
        "Khai báo các biến trạng thái, nhiệt độ, độ ẩm, khí gas, biến thời gian hiện tại và trước đó."
      ],
      "metadata": {
        "id": "GGPy0BJp2Uh8"
      }
    },
    {
      "cell_type": "code",
      "source": [
        "String path = \"/SmartHomeZigbee\";\n",
        "FirebaseData firebaseData;\n",
        "HardwareSerial zigbee(2);\n",
        "String data_receiv, node, data_tx, tmp1, humi1, mq2_s, tt_den, tt_quat,s = \"\";\n",
        "int tt ;\n",
        "float temperature1;\n",
        "float humidity1;\n",
        "int mq2;\n",
        "unsigned long curr_time, prev_time;"
      ],
      "metadata": {
        "id": "GDNPq5wb2TvZ"
      },
      "execution_count": null,
      "outputs": []
    },
    {
      "cell_type": "markdown",
      "source": [
        "Chương trình chính:\n",
        "- Setup baudrate truyền của Serial và của Zigbee\n",
        "- Connect Wifi\n",
        "- setString đẩy dữ liệu lên Firebase 2 trường LED và FAN\n",
        "\n",
        "Trong hàm setup():\n",
        "\n",
        "- Bắt đầu giao tiếp Serial với baud rate là 9600 và cổng serial Zigbee với baud\n",
        "\n",
        "rate là 115200.\n",
        "\n",
        "- Kết nối đến mạng WiFi sử dụng thông tin đăng nhập đã được định nghĩa. Một vòng lặp while được sử dụng để kiểm tra xem kết nối WiFi đã thành công hay chưa.\n",
        "\n",
        "- Khởi tạo kết nối đến Firebase Database bằng cách sử dụng Firebase.begin() với thông tin xác thực Firebase và đường dẫn cơ sở dữ liệu Firebase.\n",
        "\n",
        "- Đặt giá trị mặc định cho các nút \"LED\" và \"FAN\" trong cơ sở dữ liệu Firebase bằng Firebase.setString()."
      ],
      "metadata": {
        "id": "gzZAjMo62o--"
      }
    },
    {
      "cell_type": "code",
      "source": [
        "void setup() {\n",
        "\n",
        "  // Start serial communication\n",
        "  Serial.begin(9600);\n",
        "  zigbee.begin(115200, SERIAL_8N1, 16, 17);\n",
        "  // Connect to WiFi network\n",
        "  WiFi.begin(WIFI_SSID, WIFI_PASSWORD);\n",
        "  while (WiFi.status() != WL_CONNECTED) {\n",
        "    delay(10);\n",
        "    Serial.println(\"Connecting to WiFi...\");\n",
        "  }\n",
        "  // Initialize Firebase\n",
        "  Firebase.begin(FIREBASE_HOST, FIREBASE_AUTH);\n",
        "  Serial.println(\"Connected to firebase\");\n",
        "  Firebase.setString(firebaseData, path + \"/LED\", \"off\");\n",
        "  Firebase.setString(firebaseData, path + \"/FAN\", \"off\");\n",
        "}"
      ],
      "metadata": {
        "id": "HS5cp2IA2q-l"
      },
      "execution_count": null,
      "outputs": []
    },
    {
      "cell_type": "markdown",
      "source": [
        "- Vòng loop() của chương trình."
      ],
      "metadata": {
        "id": "qh5jDac73dOY"
      }
    },
    {
      "cell_type": "code",
      "source": [
        "void loop() {\n",
        "  if (zigbee.available() > 0) {\n",
        "    data_receiv = zigbee.readStringUntil('\\n');\n",
        "    delay(1);\n",
        "  }\n",
        "  curr_time = millis();\n",
        "  if (curr_time - prev_time > 200) {\n",
        "    prev_time = curr_time;\n",
        "    tt++;\n",
        "    if (tt < 10) {\n",
        "      //data_tx = firebaseData.intData();\n",
        "      Firebase.getString(firebaseData, path + \"/LED\");\n",
        "      tt_den = firebaseData.stringData();\n",
        "      Firebase.getString(firebaseData, path + \"/FAN\");\n",
        "      tt_quat = firebaseData.stringData();\n",
        "      //tt_den = firebaseData.stringData();   // quat\n",
        "      s = s + tt_den;\n",
        "      Serial.println(s);\n",
        "      data_tx = \"10/\"  + s + \"/\" + tt_quat;    // 10/on\n",
        "      zigbee.println(data_tx);\n",
        "      s = \"\";\n",
        "      node = getValue(data_receiv, '/', 0);\n",
        "      if (node == \"node1\") {\n",
        "        tmp1 = getValue(data_receiv, '/', 1);\n",
        "        humi1 = getValue(data_receiv, '/', 2);\n",
        "        temperature1 = tmp1.toFloat();\n",
        "        humidity1 = humi1.toFloat();\n",
        "        Firebase.setFloat(firebaseData, path + \"/TEMPERATURE\", temperature1);\n",
        "        Firebase.setFloat(firebaseData, path + \"/HUMIDITY\", humidity1);\n",
        "        Serial.print(\"Temp:\");\n",
        "        Serial.print(temperature1);\n",
        "        Serial.print(\"---\");\n",
        "        Serial.print(\"Humi:\");\n",
        "        Serial.print(humidity1);\n",
        "        Serial.println();\n",
        "      }\n",
        "    }\n",
        "    if (tt < 20 && tt > 10) {\n",
        "      data_tx = \"20/\"  + String(tt_den);    // tt_quat\n",
        "      zigbee.println(data_tx);\n",
        "      node = getValue(data_receiv, '/', 0);\n",
        "      if (node == \"node2\") {\n",
        "        mq2_s = getValue(data_receiv, '/', 1);\n",
        "        mq2 = mq2_s.toInt();\n",
        "        Firebase.setFloat(firebaseData, path + \"/MQ2\", mq2);\n",
        "        Serial.print(\"MQ2:\");\n",
        "        Serial.print(mq2_s);\n",
        "        Serial.println();\n",
        "      }\n",
        "    }\n",
        "    if (tt > 20) {\n",
        "      tt = 0;\n",
        "    }\n",
        "  }\n",
        "}\n",
        "String getValue(String data, char separator, int index) {\n",
        "  int found = 0;\n",
        "  int strIndex[] = { 0, -1 };\n",
        "  int maxIndex = data.length() - 1;\n",
        "  for (int i = 0; i <= maxIndex && found <= index; i++) {\n",
        "    if (data.charAt(i) == separator || i == maxIndex) {\n",
        "      found++;\n",
        "      strIndex[0] = strIndex[1] + 1;\n",
        "      strIndex[1] = (i == maxIndex) ? i + 1 : i;\n",
        "    }\n",
        "  }\n",
        "  return found > index ? data.substring(strIndex[0], strIndex[1]) : \"\";\n",
        "}"
      ],
      "metadata": {
        "id": "XTxiXQwP3c7O"
      },
      "execution_count": null,
      "outputs": []
    },
    {
      "cell_type": "markdown",
      "source": [
        "Giải thích vòng Loop()\n",
        "\n",
        "Hàm loop():\n",
        "\n",
        "Đây là hàm chính chạy trong vòng lặp vô hạn và thực hiện các công việc:\n",
        "\n",
        "- Kiểm tra xem có dữ liệu mới từ module Zigbee thông qua zigbee.available(). Nếu có dữ liệu, nó sẽ được đọc vào biến data_receiv.\n",
        "\n",
        "- Tạo một biến curr_time để theo dõi thời gian hiện tại và biến prev_time để kiểm tra khoảng thời gian giữa các lần lặp.\n",
        "\n",
        "- Sử dụng biến tt để theo dõi số lần lặp và thực hiện các hành động khác nhau dựa trên giá trị của tt.\n",
        "\n",
        "- Đọc giá trị \"LED\" và \"FAN\" từ cơ sở dữ liệu Firebase bằng Firebase.getString() và tạo chuỗi data_tx để gửi dữ liệu đến module Zigbee.\n",
        "\n",
        "- Đọc dữ liệu từ module Zigbee và cập nhật cơ sở dữ liệu Firebase với dữ liệu từ cảm biến \"node1\" (nhiệt độ và độ ẩm) hoặc \"node2\" (dữ liệu từ cảm biến MQ2).\n",
        "\n",
        "- Sử dụng hàm getValue() để phân tách dữ liệu nhận được từ module Zigbee theo ký tự '/' và lấy các giá trị cụ thể.\n",
        "\n",
        "- Cuối cùng, kiểm tra giá trị của tt và đặt lại nó thành 0 nếu nó vượt quá 20 để quản lý các lần lặp."
      ],
      "metadata": {
        "id": "w_izs3NK5FX2"
      }
    },
    {
      "cell_type": "code",
      "source": [
        "if (zigbee.available() > 0) {\n",
        "    data_receiv = zigbee.readStringUntil('\\n');\n",
        "    delay(1);\n",
        "  }\n",
        "  curr_time = millis();\n",
        "  if (curr_time - prev_time > 200) {\n",
        "    prev_time = curr_time;\n",
        "    tt++;\n",
        "    if (tt < 10) {\n",
        "      //data_tx = firebaseData.intData();\n",
        "      Firebase.getString(firebaseData, path + \"/LED\");\n",
        "      tt_den = firebaseData.stringData();\n",
        "      Firebase.getString(firebaseData, path + \"/FAN\");\n",
        "      tt_quat = firebaseData.stringData();\n",
        "      //tt_den = firebaseData.stringData();   // quat\n",
        "      s = s + tt_den;\n",
        "      Serial.println(s);\n",
        "      data_tx = \"10/\"  + s + \"/\" + tt_quat;    // 10/on\n",
        "      zigbee.println(data_tx);\n",
        "      s = \"\";\n",
        "      node = getValue(data_receiv, '/', 0);\n",
        "      if (node == \"node1\") {\n",
        "        tmp1 = getValue(data_receiv, '/', 1);\n",
        "        humi1 = getValue(data_receiv, '/', 2);\n",
        "        temperature1 = tmp1.toFloat();\n",
        "        humidity1 = humi1.toFloat();\n",
        "        Firebase.setFloat(firebaseData, path + \"/TEMPERATURE\", temperature1);\n",
        "        Firebase.setFloat(firebaseData, path + \"/HUMIDITY\", humidity1);\n",
        "        Serial.print(\"Temp:\");\n",
        "        Serial.print(temperature1);\n",
        "        Serial.print(\"---\");\n",
        "        Serial.print(\"Humi:\");\n",
        "        Serial.print(humidity1);\n",
        "        Serial.println();\n",
        "      }\n",
        "    }\n",
        "    if (tt < 20 && tt > 10) {\n",
        "      data_tx = \"20/\"  + String(tt_den);    // tt_quat\n",
        "      zigbee.println(data_tx);\n",
        "      node = getValue(data_receiv, '/', 0);\n",
        "      if (node == \"node2\") {\n",
        "        mq2_s = getValue(data_receiv, '/', 1);\n",
        "        mq2 = mq2_s.toInt();\n",
        "        Firebase.setFloat(firebaseData, path + \"/MQ2\", mq2);\n",
        "        Serial.print(\"MQ2:\");\n",
        "        Serial.print(mq2_s);\n",
        "        Serial.println();\n",
        "      }\n",
        "    }\n",
        "    if (tt > 20) {\n",
        "      tt = 0;\n",
        "    }\n",
        "  }\n",
        "}"
      ],
      "metadata": {
        "id": "jTkQdp7M5FPe"
      },
      "execution_count": null,
      "outputs": []
    },
    {
      "cell_type": "markdown",
      "source": [
        "Hàm getValue():\n",
        "\n",
        "- Hàm này được sử dụng để trích xuất giá trị từ một chuỗi dựa trên ký tự ngăn cách.\n",
        "-Hàm này có tham số đầu vào là data (chuỗi cần xử lý), separator (ký tự dùng để phân tách giá trị), và index (chỉ định giá trị cần lấy).\n",
        "- Hàm này sẽ trả về giá trị tại vị trí index trong chuỗi sau khi đã tách.\n"
      ],
      "metadata": {
        "id": "i-3bcaHp6FRo"
      }
    },
    {
      "cell_type": "code",
      "source": [
        "String getValue(String data, char separator, int index) {\n",
        "  int found = 0;\n",
        "  int strIndex[] = { 0, -1 };\n",
        "  int maxIndex = data.length() - 1;\n",
        "  for (int i = 0; i <= maxIndex && found <= index; i++) {\n",
        "    if (data.charAt(i) == separator || i == maxIndex) {\n",
        "      found++;\n",
        "      strIndex[0] = strIndex[1] + 1;\n",
        "      strIndex[1] = (i == maxIndex) ? i + 1 : i;\n",
        "    }\n",
        "  }\n",
        "  return found > index ? data.substring(strIndex[0], strIndex[1]) : \"\";\n",
        "}\n"
      ],
      "metadata": {
        "id": "axbT3nSL6Cof"
      },
      "execution_count": null,
      "outputs": []
    },
    {
      "cell_type": "markdown",
      "source": [
        "Tổng kết: Đoạn code này tổ chức việc thu thập dữ liệu từ cảm biến và truyền chúng đến cơ sở dữ liệu Firebase thông qua Zigbee. Nó cũng đảm bảo rằng dữ liệu được đọc và xử lý một cách đúng đắn nhất và được đồng bộ hóa với Firebase."
      ],
      "metadata": {
        "id": "VejPYDdf6X04"
      }
    }
  ]
}